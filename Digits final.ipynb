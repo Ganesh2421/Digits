{
 "cells": [
  {
   "cell_type": "code",
   "execution_count": 1,
   "metadata": {},
   "outputs": [],
   "source": [
    "import tensorflow as tf\n",
    "import numpy as n"
   ]
  },
  {
   "cell_type": "code",
   "execution_count": 2,
   "metadata": {},
   "outputs": [
    {
     "name": "stdout",
     "output_type": "stream",
     "text": [
      "Model: \"sequential\"\n",
      "_________________________________________________________________\n",
      "Layer (type)                 Output Shape              Param #   \n",
      "=================================================================\n",
      "conv2d (Conv2D)              (None, 26, 26, 64)        640       \n",
      "_________________________________________________________________\n",
      "max_pooling2d (MaxPooling2D) (None, 13, 13, 64)        0         \n",
      "_________________________________________________________________\n",
      "conv2d_1 (Conv2D)            (None, 11, 11, 64)        36928     \n",
      "_________________________________________________________________\n",
      "max_pooling2d_1 (MaxPooling2 (None, 5, 5, 64)          0         \n",
      "_________________________________________________________________\n",
      "flatten (Flatten)            (None, 1600)              0         \n",
      "_________________________________________________________________\n",
      "dense (Dense)                (None, 128)               204928    \n",
      "_________________________________________________________________\n",
      "dense_1 (Dense)              (None, 10)                1290      \n",
      "=================================================================\n",
      "Total params: 243,786\n",
      "Trainable params: 243,786\n",
      "Non-trainable params: 0\n",
      "_________________________________________________________________\n"
     ]
    }
   ],
   "source": [
    "model = tf.keras.models.Sequential([\n",
    "    \n",
    "    tf.keras.layers.Conv2D(64, (3,3), activation='relu', input_shape=(28, 28, 1)),\n",
    "    tf.keras.layers.MaxPooling2D(2, 2),\n",
    "    tf.keras.layers.Conv2D(64, (3,3), activation='relu'),\n",
    "    tf.keras.layers.MaxPooling2D(2,2),\n",
    "    #tf.keras.layers.Conv2D(32, (3,3), activation='relu'),\n",
    "    #tf.keras.layers.MaxPooling2D(2,2),\n",
    "    tf.keras.layers.Flatten(),\n",
    "    tf.keras.layers.Dense(128, activation='relu'),\n",
    "    tf.keras.layers.Dense(10, activation='softmax')\n",
    "    \n",
    "])\n",
    "model.summary()"
   ]
  },
  {
   "cell_type": "code",
   "execution_count": 3,
   "metadata": {},
   "outputs": [],
   "source": [
    "class myCallback(tf.keras.callbacks.Callback):\n",
    "    def on_epoch_end(self, epoch, logs ={}):\n",
    "            #print(logs)\n",
    "        if (float(logs.get('accuracy')) > 0.9985) :\n",
    "            print(\"Reached 99% accuracy so cancelling training!\")\n",
    "            self.model.stop_training = True\n",
    "            "
   ]
  },
  {
   "cell_type": "code",
   "execution_count": 4,
   "metadata": {
    "scrolled": false
   },
   "outputs": [
    {
     "name": "stdout",
     "output_type": "stream",
     "text": [
      "Found 37800 images belonging to 10 classes.\n",
      "Found 4200 images belonging to 10 classes.\n",
      "Epoch 1/20\n",
      "1182/1182 [==============================] - 69s 58ms/step - loss: 0.1484 - accuracy: 0.9552 - val_loss: 0.0577 - val_accuracy: 0.9817\n",
      "Epoch 2/20\n",
      "1182/1182 [==============================] - 70s 59ms/step - loss: 0.0469 - accuracy: 0.9853 - val_loss: 0.0405 - val_accuracy: 0.9874\n",
      "Epoch 3/20\n",
      "1182/1182 [==============================] - 69s 58ms/step - loss: 0.0344 - accuracy: 0.9891 - val_loss: 0.0390 - val_accuracy: 0.9893\n",
      "Epoch 4/20\n",
      "1182/1182 [==============================] - 69s 58ms/step - loss: 0.0224 - accuracy: 0.9930 - val_loss: 0.0463 - val_accuracy: 0.9864\n",
      "Epoch 5/20\n",
      "1182/1182 [==============================] - 71s 60ms/step - loss: 0.0170 - accuracy: 0.9948 - val_loss: 0.0512 - val_accuracy: 0.9864\n",
      "Epoch 6/20\n",
      "1182/1182 [==============================] - 73s 62ms/step - loss: 0.0156 - accuracy: 0.9947 - val_loss: 0.0416 - val_accuracy: 0.9867\n",
      "Epoch 7/20\n",
      "1182/1182 [==============================] - 74s 63ms/step - loss: 0.0112 - accuracy: 0.9961 - val_loss: 0.0371 - val_accuracy: 0.9900\n",
      "Epoch 8/20\n",
      "1182/1182 [==============================] - 75s 63ms/step - loss: 0.0089 - accuracy: 0.9972 - val_loss: 0.0350 - val_accuracy: 0.9895\n",
      "Epoch 9/20\n",
      "1182/1182 [==============================] - 76s 64ms/step - loss: 0.0071 - accuracy: 0.9975 - val_loss: 0.0530 - val_accuracy: 0.9869\n",
      "Epoch 10/20\n",
      "1182/1182 [==============================] - 76s 64ms/step - loss: 0.0078 - accuracy: 0.9977 - val_loss: 0.0329 - val_accuracy: 0.9921\n",
      "Epoch 11/20\n",
      "1182/1182 [==============================] - 76s 64ms/step - loss: 0.0061 - accuracy: 0.9982 - val_loss: 0.0511 - val_accuracy: 0.9893\n",
      "Epoch 12/20\n",
      "1182/1182 [==============================] - 76s 64ms/step - loss: 0.0061 - accuracy: 0.9983 - val_loss: 0.0372 - val_accuracy: 0.9917\n",
      "Epoch 13/20\n",
      "1182/1182 [==============================] - 74s 63ms/step - loss: 0.0046 - accuracy: 0.9985 - val_loss: 0.0667 - val_accuracy: 0.9860\n",
      "Epoch 14/20\n",
      "1182/1182 [==============================] - 75s 64ms/step - loss: 0.0046 - accuracy: 0.9982 - val_loss: 0.0542 - val_accuracy: 0.9902\n",
      "Epoch 15/20\n",
      "1182/1182 [==============================] - 77s 65ms/step - loss: 0.0057 - accuracy: 0.9983 - val_loss: 0.0731 - val_accuracy: 0.9829\n",
      "Epoch 16/20\n",
      "1182/1182 [==============================] - 77s 65ms/step - loss: 0.0046 - accuracy: 0.9986 - val_loss: 0.0512 - val_accuracy: 0.9907\n",
      "Epoch 17/20\n",
      "1182/1182 [==============================] - 76s 64ms/step - loss: 0.0029 - accuracy: 0.9992 - val_loss: 0.0602 - val_accuracy: 0.9893\n",
      "Epoch 18/20\n",
      "1182/1182 [==============================] - 76s 65ms/step - loss: 0.0036 - accuracy: 0.9988 - val_loss: 0.0658 - val_accuracy: 0.9893\n",
      "Epoch 19/20\n",
      "1182/1182 [==============================] - 75s 64ms/step - loss: 0.0049 - accuracy: 0.9984 - val_loss: 0.0484 - val_accuracy: 0.9902\n",
      "Epoch 20/20\n",
      "1182/1182 [==============================] - 74s 62ms/step - loss: 0.0030 - accuracy: 0.9992 - val_loss: 0.0556 - val_accuracy: 0.9900\n"
     ]
    }
   ],
   "source": [
    "#3callbacks = myCallback()\n",
    "#from tensorflow.keras.optimizers import SGD\n",
    "model.compile(optimizer='Adam',\n",
    "                  loss='categorical_crossentropy',\n",
    "                  metrics=['accuracy'])\n",
    "from tensorflow.keras.preprocessing.image import ImageDataGenerator\n",
    "\n",
    "\n",
    "train_datagen = ImageDataGenerator(rescale=1/255)\n",
    "validation_datagen = ImageDataGenerator(rescale=1/255)\n",
    "\n",
    "\n",
    "train_generator = train_datagen.flow_from_directory(\n",
    "        'E:/Coursera/TrainingData',  \n",
    "        target_size=(28, 28),  \n",
    "        batch_size=32,\n",
    "        color_mode = 'grayscale')\n",
    "validation_generator = validation_datagen.flow_from_directory(\n",
    "        'E:/Coursera/TestingData',  \n",
    "        target_size=(28, 28),  \n",
    "        batch_size=32,\n",
    "        color_mode = 'grayscale')\n",
    "#print(*train_generator)\n",
    "history = model.fit(\n",
    "      train_generator,\n",
    "        \n",
    "      epochs=20,\n",
    "      verbose=1,\n",
    "      \n",
    "      shuffle = True,\n",
    "      validation_data= validation_generator\n",
    "      \n",
    ")\n",
    "        "
   ]
  },
  {
   "cell_type": "code",
   "execution_count": null,
   "metadata": {},
   "outputs": [],
   "source": []
  },
  {
   "cell_type": "code",
   "execution_count": null,
   "metadata": {},
   "outputs": [],
   "source": []
  },
  {
   "cell_type": "code",
   "execution_count": null,
   "metadata": {},
   "outputs": [],
   "source": []
  }
 ],
 "metadata": {
  "kernelspec": {
   "display_name": "Python 3",
   "language": "python",
   "name": "python3"
  },
  "language_info": {
   "codemirror_mode": {
    "name": "ipython",
    "version": 3
   },
   "file_extension": ".py",
   "mimetype": "text/x-python",
   "name": "python",
   "nbconvert_exporter": "python",
   "pygments_lexer": "ipython3",
   "version": "3.7.4"
  }
 },
 "nbformat": 4,
 "nbformat_minor": 4
}
